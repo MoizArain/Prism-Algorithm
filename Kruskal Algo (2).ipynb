{
 "cells": [
  {
   "cell_type": "code",
   "execution_count": 3,
   "id": "ae5d39d6",
   "metadata": {},
   "outputs": [],
   "source": [
    "from collections import defaultdict\n",
    "\n",
    "# Class to represent a graph\n",
    "\n",
    "\n",
    "class Graph:\n",
    "\n",
    "    def __init__(self, vertices):\n",
    "        self.V = vertices # No. of vertices\n",
    "        self.graph = [] # default dictionary\n",
    "        # to store graph\n",
    "\n",
    "    # function to add an edge to graph\n",
    "    def addEdge(self, u, v, w):\n",
    "        self.graph.append([u, v, w])\n",
    "\n",
    "    # A utility function to find set of an element i\n",
    "    # (uses path compression technique)\n",
    "    def find(self, parent, i):\n",
    "        if parent[i] == i:\n",
    "            return i\n",
    "        return self.find(parent, parent[i])\n",
    "\n",
    "    # A function that does union of two sets of x and y\n",
    "    # (uses union by rank)\n",
    "    def union(self, parent, rank, x, y):\n",
    "        xroot = self.find(parent, x)\n",
    "        yroot = self.find(parent, y)\n",
    "\n",
    "        # Attach smaller rank tree under root of\n",
    "        # high rank tree (Union by Rank)\n",
    "        if rank[xroot] < rank[yroot]:\n",
    "            parent[xroot] = yroot\n",
    "        elif rank[xroot] > rank[yroot]:\n",
    "            parent[yroot] = xroot\n",
    "\n",
    "        # If ranks are same, then make one as root\n",
    "        # and increment its rank by one\n",
    "        else:\n",
    "            parent[yroot] = xroot\n",
    "            rank[xroot] += 1\n",
    "\n",
    "    # The main function to construct MST using Kruskal's\n",
    "        # algorithm\n",
    "    def KruskalMST(self):\n",
    "\n",
    "        result = [] # This will store the resultant MST\n",
    "        \n",
    "        # An index variable, used for sorted edges\n",
    "        i = 0\n",
    "        \n",
    "        # An index variable, used for result[]\n",
    "        e = 0\n",
    "\n",
    "        # Step 1: Sort all the edges in\n",
    "        # non-decreasing order of their\n",
    "        # weight. If we are not allowed to change the\n",
    "        # given graph, we can create a copy of graph\n",
    "        self.graph = sorted(self.graph,\n",
    "                            key=lambda item: item[2])\n",
    "\n",
    "        parent = []\n",
    "        rank = []\n",
    "\n",
    "        # Create V subsets with single elements\n",
    "        for node in range(self.V):\n",
    "            parent.append(node)\n",
    "            rank.append(0)\n",
    "\n",
    "        # Number of edges to be taken is equal to V-1\n",
    "        while e < self.V - 1:\n",
    "\n",
    "            # Step 2: Pick the smallest edge and increment\n",
    "            # the index for next iteration\n",
    "            u, v, w = self.graph[i]\n",
    "            i = i + 1\n",
    "            x = self.find(parent, u)\n",
    "            y = self.find(parent, v)\n",
    "\n",
    "            # If including this edge doesn't\n",
    "            # cause cycle, include it in result\n",
    "            # and increment the indexof result\n",
    "            # for next edge\n",
    "            if x != y:\n",
    "                e = e + 1\n",
    "                result.append([u, v, w])\n",
    "                self.union(parent, rank, x, y)\n",
    "            # Else discard the edge\n",
    "\n",
    "        minimumCost = 0\n",
    "        print (\"Edges in the constructed MST\")\n",
    "        for u, v, weight in result:\n",
    "            minimumCost += weight\n",
    "            print(\"%d -- %d == %d\" % (u, v, weight))\n",
    "        print(\"Minimum Spanning Tree\" , minimumCost)"
   ]
  },
  {
   "cell_type": "code",
   "execution_count": 4,
   "id": "08521025",
   "metadata": {},
   "outputs": [],
   "source": [
    "def create_graph(data):\n",
    "  g = Graph(int(data[0][0]), int(data[0][1]))\n",
    "  i = 1\n",
    "  while(i < len(data)-1):\n",
    "    values = data[i]\n",
    "    g.add_edge(int(values[0]), int(values[1]), int(values[2]))\n",
    "    i = i +1 \n",
    "  return g"
   ]
  },
  {
   "cell_type": "code",
   "execution_count": 5,
   "id": "66d0e989",
   "metadata": {},
   "outputs": [
    {
     "name": "stdout",
     "output_type": "stream",
     "text": [
      "Edges in the constructed MST\n",
      "6 -- 7 == -7786\n",
      "8 -- 5 == -5756\n",
      "1 -- 2 == -4502\n",
      "3 -- 4 == 3256\n",
      "0 -- 1 == 4188\n",
      "7 -- 3 == 5906\n",
      "2 -- 3 == 6938\n",
      "8 -- 9 == 7091\n",
      "4 -- 5 == 7605\n",
      "Minimum Spanning Tree 16940\n"
     ]
    }
   ],
   "source": [
    "import time\n",
    "\n",
    "#at the start of cell, define <tic> variable\n",
    "tic = time.time()\n",
    "# Driver code\n",
    "g = Graph(10)\n",
    "g.addEdge(0 ,1 ,4188)\n",
    "g.addEdge(1 ,2 ,-4502)\n",
    "g.addEdge(2 ,3 ,6938)\n",
    "g.addEdge(3 ,4 ,3256)\n",
    "g.addEdge(4 ,5 ,7605)\n",
    "g.addEdge(5 ,6 ,8856)\n",
    "g.addEdge(6 ,7 ,-7786)\n",
    "g.addEdge(7 ,8 ,9244)\n",
    "g.addEdge(7 ,3 ,5906)\n",
    "g.addEdge(8 ,9 ,7091)\n",
    "g.addEdge(8 ,5 ,-5756)\n",
    "\n",
    "\n",
    "\n",
    "# Function call\n",
    "g.KruskalMST()\n",
    "\n",
    "#at the end of cell, define <toc> variable\n",
    "toc = time.time()\n",
    "\n",
    "#store execution time in variable. Note the unit of the result is seconds\n",
    "time_taken = toc - tic "
   ]
  },
  {
   "cell_type": "code",
   "execution_count": 6,
   "id": "3c9c2b04",
   "metadata": {},
   "outputs": [],
   "source": [
    "us = []\n",
    "vs = []\n",
    "ws = []\n",
    "\n",
    "datalist=[\"input_random_01_10.txt\",\"input_random_02_10\",\"input_random_03_10\",\"input_random_04_10\",\"input_random_05_20\",\n",
    "          \"input_random_06_20\",\"input_random_07_20\",\"input_random_08_20\"]\n",
    "\n",
    "def ReaderData():\n",
    "    filename=input(\"Enter file name: \")\n",
    "    f = open(filename,'r')\n",
    "    for row in f:\n",
    "        row = row.split(' ')\n",
    "        us.append(int(row[0])-1)\n",
    "        vs.append(int(row[1])-1)\n",
    "        ws.append(int(row[2]))\n",
    "    print(\"   u    v     w\")\n",
    "    print(\"------------------\")\n",
    "    for i in range(0,len(us)):\n",
    "        print(\"  \",us[i], \"  \",vs[i],\"  \",ws[i])"
   ]
  },
  {
   "cell_type": "code",
   "execution_count": 7,
   "id": "2db1db09",
   "metadata": {},
   "outputs": [
    {
     "name": "stdout",
     "output_type": "stream",
     "text": [
      "Enter file name: input_random_01_10.txt\n"
     ]
    },
    {
     "ename": "FileNotFoundError",
     "evalue": "[Errno 2] No such file or directory: 'input_random_01_10.txt'",
     "output_type": "error",
     "traceback": [
      "\u001b[1;31m---------------------------------------------------------------------------\u001b[0m",
      "\u001b[1;31mFileNotFoundError\u001b[0m                         Traceback (most recent call last)",
      "\u001b[1;32m~\\AppData\\Local\\Temp/ipykernel_6132/1255209531.py\u001b[0m in \u001b[0;36m<module>\u001b[1;34m\u001b[0m\n\u001b[1;32m----> 1\u001b[1;33m \u001b[0mReaderData\u001b[0m\u001b[1;33m(\u001b[0m\u001b[1;33m)\u001b[0m\u001b[1;33m\u001b[0m\u001b[1;33m\u001b[0m\u001b[0m\n\u001b[0m",
      "\u001b[1;32m~\\AppData\\Local\\Temp/ipykernel_6132/2711385392.py\u001b[0m in \u001b[0;36mReaderData\u001b[1;34m()\u001b[0m\n\u001b[0;32m      8\u001b[0m \u001b[1;32mdef\u001b[0m \u001b[0mReaderData\u001b[0m\u001b[1;33m(\u001b[0m\u001b[1;33m)\u001b[0m\u001b[1;33m:\u001b[0m\u001b[1;33m\u001b[0m\u001b[1;33m\u001b[0m\u001b[0m\n\u001b[0;32m      9\u001b[0m     \u001b[0mfilename\u001b[0m\u001b[1;33m=\u001b[0m\u001b[0minput\u001b[0m\u001b[1;33m(\u001b[0m\u001b[1;34m\"Enter file name: \"\u001b[0m\u001b[1;33m)\u001b[0m\u001b[1;33m\u001b[0m\u001b[1;33m\u001b[0m\u001b[0m\n\u001b[1;32m---> 10\u001b[1;33m     \u001b[0mf\u001b[0m \u001b[1;33m=\u001b[0m \u001b[0mopen\u001b[0m\u001b[1;33m(\u001b[0m\u001b[0mfilename\u001b[0m\u001b[1;33m,\u001b[0m\u001b[1;34m'r'\u001b[0m\u001b[1;33m)\u001b[0m\u001b[1;33m\u001b[0m\u001b[1;33m\u001b[0m\u001b[0m\n\u001b[0m\u001b[0;32m     11\u001b[0m     \u001b[1;32mfor\u001b[0m \u001b[0mrow\u001b[0m \u001b[1;32min\u001b[0m \u001b[0mf\u001b[0m\u001b[1;33m:\u001b[0m\u001b[1;33m\u001b[0m\u001b[1;33m\u001b[0m\u001b[0m\n\u001b[0;32m     12\u001b[0m         \u001b[0mrow\u001b[0m \u001b[1;33m=\u001b[0m \u001b[0mrow\u001b[0m\u001b[1;33m.\u001b[0m\u001b[0msplit\u001b[0m\u001b[1;33m(\u001b[0m\u001b[1;34m' '\u001b[0m\u001b[1;33m)\u001b[0m\u001b[1;33m\u001b[0m\u001b[1;33m\u001b[0m\u001b[0m\n",
      "\u001b[1;31mFileNotFoundError\u001b[0m: [Errno 2] No such file or directory: 'input_random_01_10.txt'"
     ]
    }
   ],
   "source": [
    "ReaderData()"
   ]
  },
  {
   "cell_type": "code",
   "execution_count": 115,
   "id": "dab4dbbd",
   "metadata": {},
   "outputs": [
    {
     "data": {
      "text/plain": [
       "9"
      ]
     },
     "execution_count": 115,
     "metadata": {},
     "output_type": "execute_result"
    }
   ],
   "source": [
    "ver=len(us)\n",
    "ver"
   ]
  },
  {
   "cell_type": "code",
   "execution_count": 117,
   "id": "9e1cb07f",
   "metadata": {},
   "outputs": [
    {
     "name": "stdout",
     "output_type": "stream",
     "text": [
      "Edges in the constructed MST\n",
      "5 -- 6 == -7462\n",
      "7 -- 8 == -976\n",
      "3 -- 4 == -433\n",
      "1 -- 2 == 1392\n",
      "0 -- 1 == 4993\n",
      "4 -- 5 == 6590\n",
      "6 -- 7 == 6658\n",
      "2 -- 3 == 8856\n",
      "8 -- 9 == 9698\n",
      "Minimum Spanning Tree 29316\n",
      "0.0019965171813964844\n"
     ]
    }
   ],
   "source": [
    "import time\n",
    "\n",
    "#at the start of cell, define <tic> variable\n",
    "tic = time.time()\n",
    "# Driver code\n",
    "g = Graph(ver+1)\n",
    "for i in range(0,ver):\n",
    "    #print(i)\n",
    "    g.addEdge(us[i], vs[i], ws[i])\n",
    "# Function call\n",
    "\n",
    "g.KruskalMST()\n",
    "\n",
    "#at the end of cell, define <toc> variable\n",
    "toc = time.time()\n",
    "\n",
    "#store execution time in variable. Note the unit of the result is seconds\n",
    "time_taken = toc - tic \n",
    "\n",
    "#Time Taken \n",
    "time_series=[]\n",
    "time_series.append(time_taken)\n",
    "print(time_taken)"
   ]
  },
  {
   "cell_type": "code",
   "execution_count": 76,
   "id": "810e5048",
   "metadata": {},
   "outputs": [
    {
     "data": {
      "image/png": "[encoded data removed]",
      "text/plain": [
       "<Figure size 432x288 with 1 Axes>"
      ]
     },
     "metadata": {
      "needs_background": "light"
     },
     "output_type": "display_data"
    }
   ],
   "source": [
    "import matplotlib.pyplot as plt\n",
    "\n",
    "timetaken=[0.5664,0.0797,0.000343,1.56]\n",
    "edge=[12,8,6,30]\n",
    "\n",
    "plt.plot(x, y)\n",
    "plt.xlabel('Time Taken')\n",
    "plt.ylabel('No. of Edges')\n",
    "\n",
    "plt.title('Time Complexity Graph')\n",
    "\n",
    "\n",
    "plt.show()"
   ]
  }
 ],
 "metadata": {
  "kernelspec": {
   "display_name": "Python 3 (ipykernel)",
   "language": "python",
   "name": "python3"
  },
  "language_info": {
   "codemirror_mode": {
    "name": "ipython",
    "version": 3
   },
   "file_extension": ".py",
   "mimetype": "text/x-python",
   "name": "python",
   "nbconvert_exporter": "python",
   "pygments_lexer": "ipython3",
   "version": "3.9.7"
  }
 },
 "nbformat": 4,
 "nbformat_minor": 5
}
