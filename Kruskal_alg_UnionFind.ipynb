{
 "cells": [
  {
   "cell_type": "markdown",
   "metadata": {
    "id": "lEBz5WC904sC"
   },
   "source": [
    "#Kruskal Algorithm using Union Find Dataset\n",
    "##Defining class UnionFind and Graph as data structures"
   ]
  },
  {
   "cell_type": "code",
   "execution_count": null,
   "metadata": {
    "id": "jlWgUV17B-gx"
   },
   "outputs": [],
   "source": [
    "class UnionFind:\n",
    "    parent = {}\n",
    "    # stores the depth of trees\n",
    "    rank = {}\n",
    " \n",
    "    def init(self, n): \n",
    "        # create n (number of vertices) sets, I start from 1 because the vertices in graphs start with 1\n",
    "        i = 1\n",
    "        while i < n +1:\n",
    "            self.parent[i] = i\n",
    "            self.rank[i] = 0\n",
    "            i = i + 1\n",
    " \n",
    "    def find(self, k):\n",
    "        # if `k` is the root\n",
    "        if self.parent[k] == k:\n",
    "          return k\n",
    "        else: \n",
    "          self.parent[k] = self.find(self.parent[k])\n",
    "          return self.parent[k]\n",
    "         \n",
    "\n",
    "    def union(self, a, b):\n",
    "        # find the parents of the two vertices\n",
    "        x = self.find(a)\n",
    "        y = self.find(b)\n",
    " \n",
    "        # if `x` and `y` are present in the same set => \n",
    "        if x == y:\n",
    "            return\n",
    " \n",
    "        # Always attach a smaller depth tree under the root of the deeper tree.\n",
    "        if self.rank[x] > self.rank[y]:\n",
    "            self.parent[y] = x\n",
    "        elif self.rank[x] < self.rank[y]:\n",
    "            self.parent[x] = y\n",
    "        else:\n",
    "            self.parent[x] = y\n",
    "            self.rank[y] = self.rank[y] + 1\n",
    "\n",
    "class Graph :\n",
    "  def __init__(self, vertices, edges):\n",
    "      #number of vertices in the graph\n",
    "      self.V = vertices\n",
    "      #number of edges in the graph\n",
    "      self.E = edges\n",
    "      #vertices1, vertices2, weight\n",
    "      self.graph = []\n",
    "\n",
    "  def add_edge(self, u, v, w):\n",
    "        self.graph.append([u, v, w])"
   ]
  },
  {
   "cell_type": "markdown",
   "metadata": {
    "id": "xsjsuuv-1yZW"
   },
   "source": [
    "Function to create a graph from the data"
   ]
  },
  {
   "cell_type": "code",
   "execution_count": null,
   "metadata": {
    "id": "du_IPQsEBhNB"
   },
   "outputs": [],
   "source": [
    "def create_graph(data):\n",
    "  g = Graph(int(data[0][0]), int(data[0][1]))\n",
    "  i = 1\n",
    "  while(i < len(data)-1):\n",
    "    values = data[i]\n",
    "    g.add_edge(int(values[0]), int(values[1]), int(values[2]))\n",
    "    i = i +1 \n",
    "  return g"
   ]
  },
  {
   "cell_type": "markdown",
   "metadata": {
    "id": "Tm06Vu-G18dk"
   },
   "source": [
    "##Implementation of Kruskal Algorithm"
   ]
  },
  {
   "cell_type": "code",
   "execution_count": null,
   "metadata": {
    "id": "4uuMaIDxCQXY"
   },
   "outputs": [],
   "source": [
    "def kruskal_algo(g):\n",
    "  tot_weight = 0\n",
    "  result = []\n",
    "  #initialize UnionFind data structure\n",
    "  u = UnionFind()\n",
    "  u.init(g.V)\n",
    "  #sort edges by weight\n",
    "  g.graph = sorted(g.graph, key=lambda item: item[2])\n",
    "  edg = 0 \n",
    "\n",
    "  while edg < g.E - 1: #for each edge e(v, w) do\n",
    "    v, w, weight = g.graph[edg] #take the edge informations\n",
    "    edg = edg + 1\n",
    "    if u.find(v) != u.find(w):\n",
    "      result.append([v, w, weight])\n",
    "      u.union(v, w)\n",
    "      tot_weight += weight\n",
    "  return result, tot_weight\n",
    "\n"
   ]
  },
  {
   "cell_type": "markdown",
   "metadata": {
    "id": "T1nM2HOqAax4"
   },
   "source": [
    "Plotting the table with weight of results\n"
   ]
  },
  {
   "cell_type": "code",
   "execution_count": 8,
   "metadata": {
    "colab": {
     "base_uri": "https://localhost:8080/"
    },
    "id": "lD1ZySYU8HkP",
    "outputId": "17b6ac02-965f-4d1d-aed4-ad3443bd7ea2"
   },
   "outputs": [
    {
     "ename": "SyntaxError",
     "evalue": "(unicode error) 'unicodeescape' codec can't decode bytes in position 3-4: truncated \\UXXXXXXXX escape (Temp/ipykernel_17180/31453426.py, line 5)",
     "output_type": "error",
     "traceback": [
      "\u001b[1;36m  File \u001b[1;32m\"C:\\Users\\Fahad\\AppData\\Local\\Temp/ipykernel_17180/31453426.py\"\u001b[1;36m, line \u001b[1;32m5\u001b[0m\n\u001b[1;33m    data_set = \" C:\\Users\\Fahad\\Desktop\\mst_dataset\\ \"\u001b[0m\n\u001b[1;37m                                                      ^\u001b[0m\n\u001b[1;31mSyntaxError\u001b[0m\u001b[1;31m:\u001b[0m (unicode error) 'unicodeescape' codec can't decode bytes in position 3-4: truncated \\UXXXXXXXX escape\n"
     ]
    }
   ],
   "source": [
    "from time import perf_counter_ns\n",
    "import gc\n",
    "import os\n",
    "\n",
    "data_set = \" C:\\Users\\Fahad\\Desktop\\mst_dataset\\ \"\n",
    "\n",
    "num_istances = 68\n",
    "files = os.listdir(data_set)\n",
    "files = sorted(files)\n",
    "\n",
    "def report_weight_result(files):\n",
    "  num_vertices = []\n",
    "  weights = []\n",
    "  for filename in files:\n",
    "    f = os.path.join(data_set, filename)\n",
    "    if os.path.isfile(f):\n",
    "      #read file and get the data\n",
    "      file = open(f,'r')\n",
    "      data = file.read().split(\"\\n\")\n",
    "      for i in range(len(data) - 1):\n",
    "        data[i] = data[i].split(\" \")\n",
    "      #creating the graph\n",
    "      g = create_graph(data)\n",
    "      num_vertices.append(g.V)\n",
    "      r, w = kruskal_algo(g)\n",
    "      weights.append(w)\n",
    "  return num_vertices, weights\n",
    "\n",
    "vertices, weights = report_weight_result(files)\n",
    "\n",
    "print(\"Size\\tWeight of result\")\n",
    "print(20*\"-\")\n",
    "for i in range(len(vertices)):\n",
    "  print(vertices[i], weights[i], sep=\"\\t\")\n",
    "print(20*\"-\")"
   ]
  },
  {
   "cell_type": "markdown",
   "metadata": {
    "id": "MtpCToOT2U6q"
   },
   "source": [
    "##Measuring algorithm's efficency\n",
    "\n",
    "Importing the files from the dataset\n",
    "\n",
    "This function return the average run time and the total time for all the graphs in the data set"
   ]
  },
  {
   "cell_type": "code",
   "execution_count": 14,
   "metadata": {
    "colab": {
     "base_uri": "https://localhost:8080/"
    },
    "id": "lruxLk2GXTdZ",
    "outputId": "f5bb165b-1340-4566-c12d-86e48e479630"
   },
   "outputs": [
    {
     "ename": "SyntaxError",
     "evalue": "(unicode error) 'unicodeescape' codec can't decode bytes in position 3-4: truncated \\UXXXXXXXX escape (Temp/ipykernel_17180/464745838.py, line 5)",
     "output_type": "error",
     "traceback": [
      "\u001b[1;36m  File \u001b[1;32m\"C:\\Users\\Fahad\\AppData\\Local\\Temp/ipykernel_17180/464745838.py\"\u001b[1;36m, line \u001b[1;32m5\u001b[0m\n\u001b[1;33m    data_set = \" C:\\Users\\Fahad\\Desktop\\mst_dataset \"\u001b[0m\n\u001b[1;37m                                                     ^\u001b[0m\n\u001b[1;31mSyntaxError\u001b[0m\u001b[1;31m:\u001b[0m (unicode error) 'unicodeescape' codec can't decode bytes in position 3-4: truncated \\UXXXXXXXX escape\n"
     ]
    }
   ],
   "source": [
    "from time import perf_counter_ns\n",
    "import gc\n",
    "import os\n",
    "\n",
    "data_set = \" C:\\Users\\Fahad\\Desktop\\mst_dataset \"\n",
    "num_istances = 68\n",
    "files = os.listdir(data_set)\n",
    "files = sorted(files)\n",
    "\n",
    "def measure_run_time(list, num_calls, num_instances):\n",
    "  sum_times = 0.0\n",
    "  \n",
    "  # iterate over files in the list given\n",
    "  for filename in list:\n",
    "    f = os.path.join(data_set, filename)\n",
    "    # checking if it is a file\n",
    "    if os.path.isfile(f):\n",
    "      #read file and get the data\n",
    "      file = open(f,'r')\n",
    "      data = file.read().split(\"\\n\")\n",
    "      for i in range(len(data) - 1):\n",
    "        data[i] = data[i].split(\" \")\n",
    "      #creating the graph\n",
    "      g = create_graph(data)\n",
    "\n",
    "      gc.disable()\n",
    "      start_time = perf_counter_ns()\n",
    "      for i in range(num_calls):\n",
    "        kruskal_algo(g)\n",
    "      end_time = perf_counter_ns()\n",
    "  \n",
    "      gc.enable()\n",
    "      sum_times += (end_time - start_time)/num_calls\n",
    "  avg_time = int(round(sum_times/num_instances))\n",
    "    # return average time in nanoseconds\n",
    "  return avg_time, sum_times, g.V\n",
    "\n",
    "avg_time, sum_times, v = measure_run_time(files, 10, num_istances)\n",
    "print(\"Average time (ns):\", avg_time, \"Total time (ns):\", sum_times)\n",
    "    \n"
   ]
  },
  {
   "cell_type": "markdown",
   "metadata": {
    "id": "_Dy63O7K33qF"
   },
   "source": [
    "Plotting as a table the different run times for graphs with different number of edges. \n"
   ]
  },
  {
   "cell_type": "code",
   "execution_count": null,
   "metadata": {
    "colab": {
     "base_uri": "https://localhost:8080/"
    },
    "id": "t_YAXmB2ZD_F",
    "outputId": "ce253e31-72cb-45dd-aca0-b4d63daf25f5"
   },
   "outputs": [
    {
     "name": "stdout",
     "output_type": "stream",
     "text": [
      "Size\tTime(ns)\n",
      "--------------------\n",
      "10\t24952\n",
      "20\t55958\n",
      "40\t114162\n",
      "80\t235983\n",
      "100\t309816\n",
      "200\t642826\n",
      "400\t1368189\n",
      "800\t2860267\n",
      "1000\t3626238\n",
      "2000\t7690783\n",
      "4000\t20310220\n",
      "8000\t48776523\n",
      "10000\t69015598\n",
      "20000\t143868952\n",
      "40000\t274405597\n",
      "80000\t592561730\n",
      "100000\t804285481\n",
      "--------------------\n"
     ]
    }
   ],
   "source": [
    "from typing_extensions import runtime_checkable\n",
    "import math\n",
    "import os\n",
    "\n",
    "data_set = '/mst_dataset'\n",
    "files = os.listdir(data_set)\n",
    "files = sorted(files)\n",
    "#we have 68 graphs\n",
    "num_istances = 68\n",
    "\n",
    "num_calls = 10\n",
    "\n",
    "run_times = []\n",
    "vertices_size = []\n",
    "\n",
    "\n",
    "i = 0\n",
    "while i < num_istances:\n",
    "\n",
    "  run, tot, n = measure_run_time(files[i:i+4], num_calls, 4)\n",
    "  run_times.append(run)\n",
    "  vertices_size.append(n)\n",
    "  i = i+4\n",
    "\n",
    "\n",
    "print(\"Size\\tTime(ns)\")\n",
    "print(20*\"-\")\n",
    "for i in range(len(vertices_size)):\n",
    "  print(vertices_size[i], run_times[i], sep=\"\\t\")\n",
    "print(20*\"-\")"
   ]
  },
  {
   "cell_type": "markdown",
   "metadata": {
    "id": "5nvQnGIe6IUb"
   },
   "source": [
    "Plotting as a graph the result"
   ]
  },
  {
   "cell_type": "code",
   "execution_count": null,
   "metadata": {
    "colab": {
     "base_uri": "https://localhost:8080/",
     "height": 295
    },
    "id": "VYWWPRNomGid",
    "outputId": "7e502ea3-572d-4b32-b0ec-249a9c37ea62"
   },
   "outputs": [
    {
     "data": {
      "image/png": "[encoded data removed]",
      "text/plain": [
       "<Figure size 432x288 with 1 Axes>"
      ]
     },
     "metadata": {
      "needs_background": "light"
     },
     "output_type": "display_data"
    }
   ],
   "source": [
    "import matplotlib.pyplot as plt\n",
    "import os\n",
    "plt.plot(vertices_size, run_times)\n",
    "plt.legend([\"Measured time\"])\n",
    "plt.ylabel('run time (ns)')\n",
    "plt.xlabel('number of vertices')\n",
    "plt.title('Kruskal Algorithm using Union Find plot')\n",
    "plt.show()"
   ]
  }
 ],
 "metadata": {
  "colab": {
   "collapsed_sections": [],
   "name": "Kruskal_alg_UnionFind.ipynb",
   "provenance": []
  },
  "kernelspec": {
   "display_name": "Python 3 (ipykernel)",
   "language": "python",
   "name": "python3"
  },
  "language_info": {
   "codemirror_mode": {
    "name": "ipython",
    "version": 3
   },
   "file_extension": ".py",
   "mimetype": "text/x-python",
   "name": "python",
   "nbconvert_exporter": "python",
   "pygments_lexer": "ipython3",
   "version": "3.9.7"
  }
 },
 "nbformat": 4,
 "nbformat_minor": 1
}
